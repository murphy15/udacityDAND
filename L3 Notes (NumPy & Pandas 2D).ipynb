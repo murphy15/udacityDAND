{
 "cells": [
  {
   "cell_type": "markdown",
   "metadata": {},
   "source": [
    "# Lesson 3: NumPy & Pandas in 2D"
   ]
  },
  {
   "cell_type": "markdown",
   "metadata": {},
   "source": [
    "### Data Set = NYC Subway Weather Descriptions\n",
    "\n",
    "Fields\n",
    "\n",
    "1. Conditions\n",
    "2. Fog\n",
    "3. Precipitation\n",
    "4. Pressure\n",
    "5. Temperature\n",
    "6. Wind Speed\n",
    "7. Turnstile Entries (volume of riders)\n",
    "8. Turnstile Exits (volume of riders)\n",
    "\n",
    "Initial Questions\n",
    "\n",
    "1. Does increased precipitation drive subway usage?\n",
    "2. Does decreased temperature drive subway usage?\n",
    "3. What combination of weather causes the busiest subway?\n",
    "4. What combination of weather causes the emptiest subway?\n",
    "5. What time of day is most likely to have poor weather conditions?\n"
   ]
  },
  {
   "cell_type": "markdown",
   "metadata": {},
   "source": [
    "### 2 Dimensional Data\n",
    "\n",
    "Python: List of lists\n",
    "\n",
    "NumPy: 2D Array\n",
    "\n",
    "More memory efficient, uses [row, column] indexing, math operates on entire array\n",
    "\n",
    "Pandas: DataFrame"
   ]
  },
  {
   "cell_type": "code",
   "execution_count": 3,
   "metadata": {
    "collapsed": false
   },
   "outputs": [],
   "source": [
    "import numpy as np\n",
    "\n",
    "ridership = np.array([\n",
    "    [   0,    0,    2,    5,    0],\n",
    "    [1478, 3877, 3674, 2328, 2539],\n",
    "    [1613, 4088, 3991, 6461, 2691],\n",
    "    [1560, 3392, 3826, 4787, 2613],\n",
    "    [1608, 4802, 3932, 4477, 2705],\n",
    "    [1576, 3933, 3909, 4979, 2685],\n",
    "    [  95,  229,  255,  496,  201],\n",
    "    [   2,    0,    1,   27,    0],\n",
    "    [1438, 3785, 3589, 4174, 2215],\n",
    "    [1342, 4043, 4009, 4665, 3033]\n",
    "])\n",
    "\n",
    "'''Function to find the max in a given row and take the mean of that entire column'''\n",
    "\n",
    "def mean_riders_for_max_station(ridership):\n",
    "    first_day_max = ridership[0, :].argmax()\n",
    "    overall_mean = ridership.mean()\n",
    "    mean_for_max = ridership[:, first_day_max].mean()\n",
    "    \n",
    "    return (overall_mean, mean_for_max)"
   ]
  },
  {
   "cell_type": "markdown",
   "metadata": {},
   "source": [
    "### Operations along an axis\n",
    "\n",
    "Most functions in NumPy take an axis measure meant\n",
    "\n",
    "column = _.mean(axis=0)\n",
    "\n",
    "row = _.mean(axis=1)"
   ]
  },
  {
   "cell_type": "code",
   "execution_count": 11,
   "metadata": {
    "collapsed": false
   },
   "outputs": [
    {
     "name": "stdout",
     "output_type": "stream",
     "text": [
      "[ 1071.2  2814.9  2718.8  3239.9  1868.2]\n"
     ]
    }
   ],
   "source": [
    "station_avg = ridership.mean(axis=0)\n",
    "\n",
    "print(station_avg)"
   ]
  },
  {
   "cell_type": "code",
   "execution_count": 10,
   "metadata": {
    "collapsed": false
   },
   "outputs": [
    {
     "name": "stdout",
     "output_type": "stream",
     "text": [
      "3239.9\n",
      "1071.2\n"
     ]
    }
   ],
   "source": [
    "max_mean = station_avg.max()\n",
    "min_mean = station_avg.min()\n",
    "\n",
    "print(max_mean)\n",
    "print(min_mean)"
   ]
  },
  {
   "cell_type": "code",
   "execution_count": 12,
   "metadata": {
    "collapsed": true
   },
   "outputs": [],
   "source": [
    "    '''\n",
    "    Calculates the mean for each column and finds the max/min of those values\n",
    "    '''\n",
    "\n",
    "def min_and_max_riders_per_day(ridership):\n",
    "    station_avg = ridership.mean(axis=0)\n",
    "    \n",
    "    max_daily_ridership = station_avg.max()\n",
    "    min_daily_ridership = station_avg.min()\n",
    "    \n",
    "    return (max_daily_ridership, min_daily_ridership)"
   ]
  },
  {
   "cell_type": "code",
   "execution_count": null,
   "metadata": {
    "collapsed": true
   },
   "outputs": [],
   "source": []
  }
 ],
 "metadata": {
  "anaconda-cloud": {},
  "kernelspec": {
   "display_name": "Python [conda root]",
   "language": "python",
   "name": "conda-root-py"
  },
  "language_info": {
   "codemirror_mode": {
    "name": "ipython",
    "version": 3
   },
   "file_extension": ".py",
   "mimetype": "text/x-python",
   "name": "python",
   "nbconvert_exporter": "python",
   "pygments_lexer": "ipython3",
   "version": "3.5.2"
  }
 },
 "nbformat": 4,
 "nbformat_minor": 1
}
